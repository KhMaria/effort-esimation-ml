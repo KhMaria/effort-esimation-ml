{
 "cells": [
  {
   "cell_type": "code",
   "execution_count": 1,
   "metadata": {},
   "outputs": [
    {
     "name": "stderr",
     "output_type": "stream",
     "text": [
      "[MLENS] backend: threading\n"
     ]
    }
   ],
   "source": [
    "import pandas as pd\n",
    "import matplotlib.pyplot as plt\n",
    "import seaborn as sns\n",
    "import numpy as np\n",
    "from sklearn import preprocessing\n",
    "from sklearn.model_selection import train_test_split\n",
    "from sklearn.svm import SVR\n",
    "from sklearn.linear_model import LinearRegression\n",
    "from sklearn.metrics import mean_absolute_error\n",
    "import time\n",
    "import numpy as np\n",
    "import pandas as pd\n",
    "import matplotlib.pyplot as plt\n",
    "import seaborn as sns\n",
    "from sklearn.model_selection import train_test_split\n",
    "from sklearn.svm import SVR\n",
    "from sklearn.linear_model import LinearRegression\n",
    "from sklearn.metrics import mean_absolute_error\n",
    "from sklearn.metrics import mean_squared_error\n",
    "from sklearn.metrics import r2_score\n",
    "import time\n",
    "import numpy as np\n",
    "from sklearn.model_selection import GridSearchCV\n",
    "from sklearn.ensemble import RandomForestRegressor\n",
    "import numpy as np \n",
    "import time\n",
    "from mpl_toolkits.mplot3d import Axes3D\n",
    "from sklearn import preprocessing\n",
    "from sklearn.metrics import mean_squared_error as MSE\n",
    "from pyGRNN import GRNN #imports the GRNN regressor module\n",
    "from pyGRNN import feature_selection as FS #imports the GRNN feature selector module\n",
    "import math\n",
    "import numpy as np\n",
    "from numpy.random import seed\n",
    "seed(1)\n",
    "import statsmodels.api as sm\n",
    "import statsmodels.formula.api as smf\n",
    "import tensorflow\n",
    "tensorflow.random.set_seed(1)\n",
    "from tensorflow.python.keras.layers import Dense\n",
    "from tensorflow.keras.layers import Dropout\n",
    "from tensorflow.python.keras.models import Sequential\n",
    "from tensorflow.python.keras.wrappers.scikit_learn import KerasRegressor\n",
    "from sklearn.preprocessing import MinMaxScaler\n",
    "from keras.layers import Layer\n",
    "from keras import backend as K\n",
    "import gc\n",
    "import numpy as np\n",
    "from xgboost import XGBRegressor\n",
    "from sklearn.linear_model import Lasso, ElasticNet\n",
    "from sklearn.ensemble import RandomForestRegressor\n",
    "from sklearn.preprocessing import StandardScaler\n",
    "from mlens.visualization import corr_X_y, corrmat\n",
    "from mlens.metrics import make_scorer\n",
    "from mlens.model_selection import Evaluator\n",
    "from scipy.stats import uniform, randint\n",
    "from matplotlib.pyplot import show\n",
    "%matplotlib inline"
   ]
  },
  {
   "cell_type": "code",
   "execution_count": 56,
   "metadata": {},
   "outputs": [],
   "source": [
    "# Read data into a dataframe\n",
    "df = pd.read_csv(r'C:\\diploma\\datasets\\sip-task-info.csv', engine='python')"
   ]
  },
  {
   "cell_type": "code",
   "execution_count": 57,
   "metadata": {},
   "outputs": [
    {
     "data": {
      "text/html": [
       "<div>\n",
       "<style scoped>\n",
       "    .dataframe tbody tr th:only-of-type {\n",
       "        vertical-align: middle;\n",
       "    }\n",
       "\n",
       "    .dataframe tbody tr th {\n",
       "        vertical-align: top;\n",
       "    }\n",
       "\n",
       "    .dataframe thead th {\n",
       "        text-align: right;\n",
       "    }\n",
       "</style>\n",
       "<table border=\"1\" class=\"dataframe\">\n",
       "  <thead>\n",
       "    <tr style=\"text-align: right;\">\n",
       "      <th></th>\n",
       "      <th>TaskNumber</th>\n",
       "      <th>Summary</th>\n",
       "      <th>Priority</th>\n",
       "      <th>RaisedByID</th>\n",
       "      <th>AssignedToID</th>\n",
       "      <th>AuthorisedByID</th>\n",
       "      <th>StatusCode</th>\n",
       "      <th>ProjectCode</th>\n",
       "      <th>ProjectBreakdownCode</th>\n",
       "      <th>Category</th>\n",
       "      <th>SubCategory</th>\n",
       "      <th>HoursEstimate</th>\n",
       "      <th>HoursActual</th>\n",
       "      <th>DeveloperID</th>\n",
       "      <th>DeveloperHoursActual</th>\n",
       "      <th>TaskPerformance</th>\n",
       "      <th>DeveloperPerformance</th>\n",
       "    </tr>\n",
       "  </thead>\n",
       "  <tbody>\n",
       "    <tr>\n",
       "      <th>0</th>\n",
       "      <td>1735</td>\n",
       "      <td>Flag RI on SCM Message Summary screen using me...</td>\n",
       "      <td>1</td>\n",
       "      <td>58</td>\n",
       "      <td>58</td>\n",
       "      <td>6.0</td>\n",
       "      <td>FINISHED</td>\n",
       "      <td>PC2</td>\n",
       "      <td>PBC42</td>\n",
       "      <td>Development</td>\n",
       "      <td>Enhancement</td>\n",
       "      <td>14.0</td>\n",
       "      <td>1.75</td>\n",
       "      <td>58</td>\n",
       "      <td>1.75</td>\n",
       "      <td>12.25</td>\n",
       "      <td>12.25</td>\n",
       "    </tr>\n",
       "    <tr>\n",
       "      <th>1</th>\n",
       "      <td>1742</td>\n",
       "      <td>Allow RI Policies to be marked as Exhausted</td>\n",
       "      <td>1</td>\n",
       "      <td>58</td>\n",
       "      <td>42</td>\n",
       "      <td>6.0</td>\n",
       "      <td>FINISHED</td>\n",
       "      <td>PC2</td>\n",
       "      <td>PBC21</td>\n",
       "      <td>Development</td>\n",
       "      <td>Enhancement</td>\n",
       "      <td>7.0</td>\n",
       "      <td>7.00</td>\n",
       "      <td>42</td>\n",
       "      <td>7.00</td>\n",
       "      <td>0.00</td>\n",
       "      <td>0.00</td>\n",
       "    </tr>\n",
       "    <tr>\n",
       "      <th>2</th>\n",
       "      <td>1971</td>\n",
       "      <td>Fix Invalid UWREF Line DX402L99A1N</td>\n",
       "      <td>2</td>\n",
       "      <td>7</td>\n",
       "      <td>58</td>\n",
       "      <td>6.0</td>\n",
       "      <td>FINISHED</td>\n",
       "      <td>PC2</td>\n",
       "      <td>PBC75</td>\n",
       "      <td>Operational</td>\n",
       "      <td>In House Support</td>\n",
       "      <td>0.7</td>\n",
       "      <td>0.70</td>\n",
       "      <td>58</td>\n",
       "      <td>0.70</td>\n",
       "      <td>0.00</td>\n",
       "      <td>0.00</td>\n",
       "    </tr>\n",
       "    <tr>\n",
       "      <th>3</th>\n",
       "      <td>2134</td>\n",
       "      <td>New rows in the diary event for the SCM are re...</td>\n",
       "      <td>5</td>\n",
       "      <td>50</td>\n",
       "      <td>42</td>\n",
       "      <td>6.0</td>\n",
       "      <td>FINISHED</td>\n",
       "      <td>PC2</td>\n",
       "      <td>PBC42</td>\n",
       "      <td>Development</td>\n",
       "      <td>Bug</td>\n",
       "      <td>0.7</td>\n",
       "      <td>0.70</td>\n",
       "      <td>42</td>\n",
       "      <td>0.70</td>\n",
       "      <td>0.00</td>\n",
       "      <td>0.00</td>\n",
       "    </tr>\n",
       "    <tr>\n",
       "      <th>4</th>\n",
       "      <td>2251</td>\n",
       "      <td>Application Screen Size - Need to set Min Size...</td>\n",
       "      <td>10</td>\n",
       "      <td>46</td>\n",
       "      <td>13</td>\n",
       "      <td>6.0</td>\n",
       "      <td>FINISHED</td>\n",
       "      <td>PC2</td>\n",
       "      <td>PBC21</td>\n",
       "      <td>Development</td>\n",
       "      <td>Bug</td>\n",
       "      <td>3.5</td>\n",
       "      <td>3.50</td>\n",
       "      <td>13</td>\n",
       "      <td>3.50</td>\n",
       "      <td>0.00</td>\n",
       "      <td>0.00</td>\n",
       "    </tr>\n",
       "  </tbody>\n",
       "</table>\n",
       "</div>"
      ],
      "text/plain": [
       "   TaskNumber                                            Summary  Priority  \\\n",
       "0        1735  Flag RI on SCM Message Summary screen using me...         1   \n",
       "1        1742        Allow RI Policies to be marked as Exhausted         1   \n",
       "2        1971                 Fix Invalid UWREF Line DX402L99A1N         2   \n",
       "3        2134  New rows in the diary event for the SCM are re...         5   \n",
       "4        2251  Application Screen Size - Need to set Min Size...        10   \n",
       "\n",
       "   RaisedByID  AssignedToID  AuthorisedByID StatusCode ProjectCode  \\\n",
       "0          58            58             6.0   FINISHED         PC2   \n",
       "1          58            42             6.0   FINISHED         PC2   \n",
       "2           7            58             6.0   FINISHED         PC2   \n",
       "3          50            42             6.0   FINISHED         PC2   \n",
       "4          46            13             6.0   FINISHED         PC2   \n",
       "\n",
       "  ProjectBreakdownCode     Category       SubCategory  HoursEstimate  \\\n",
       "0                PBC42  Development       Enhancement           14.0   \n",
       "1                PBC21  Development       Enhancement            7.0   \n",
       "2                PBC75  Operational  In House Support            0.7   \n",
       "3                PBC42  Development               Bug            0.7   \n",
       "4                PBC21  Development               Bug            3.5   \n",
       "\n",
       "   HoursActual  DeveloperID  DeveloperHoursActual  TaskPerformance  \\\n",
       "0         1.75           58                  1.75            12.25   \n",
       "1         7.00           42                  7.00             0.00   \n",
       "2         0.70           58                  0.70             0.00   \n",
       "3         0.70           42                  0.70             0.00   \n",
       "4         3.50           13                  3.50             0.00   \n",
       "\n",
       "   DeveloperPerformance  \n",
       "0                 12.25  \n",
       "1                  0.00  \n",
       "2                  0.00  \n",
       "3                  0.00  \n",
       "4                  0.00  "
      ]
     },
     "execution_count": 57,
     "metadata": {},
     "output_type": "execute_result"
    }
   ],
   "source": [
    "df.head()"
   ]
  },
  {
   "cell_type": "code",
   "execution_count": 58,
   "metadata": {},
   "outputs": [
    {
     "name": "stdout",
     "output_type": "stream",
     "text": [
      "<class 'pandas.core.frame.DataFrame'>\n",
      "RangeIndex: 12299 entries, 0 to 12298\n",
      "Data columns (total 17 columns):\n",
      " #   Column                Non-Null Count  Dtype  \n",
      "---  ------                --------------  -----  \n",
      " 0   TaskNumber            12299 non-null  int64  \n",
      " 1   Summary               12299 non-null  object \n",
      " 2   Priority              12299 non-null  int64  \n",
      " 3   RaisedByID            12299 non-null  int64  \n",
      " 4   AssignedToID          12299 non-null  int64  \n",
      " 5   AuthorisedByID        4265 non-null   float64\n",
      " 6   StatusCode            12299 non-null  object \n",
      " 7   ProjectCode           12299 non-null  object \n",
      " 8   ProjectBreakdownCode  12299 non-null  object \n",
      " 9   Category              12299 non-null  object \n",
      " 10  SubCategory           12299 non-null  object \n",
      " 11  HoursEstimate         12299 non-null  float64\n",
      " 12  HoursActual           12299 non-null  float64\n",
      " 13  DeveloperID           12299 non-null  int64  \n",
      " 14  DeveloperHoursActual  12299 non-null  float64\n",
      " 15  TaskPerformance       12299 non-null  float64\n",
      " 16  DeveloperPerformance  10200 non-null  float64\n",
      "dtypes: float64(6), int64(5), object(6)\n",
      "memory usage: 1.6+ MB\n"
     ]
    }
   ],
   "source": [
    "df.info()"
   ]
  },
  {
   "cell_type": "code",
   "execution_count": 59,
   "metadata": {},
   "outputs": [],
   "source": [
    "# Function to calculate missing values by column\n",
    "def missing_values_table(df):\n",
    "        # Total missing values\n",
    "        mis_val = df.isnull().sum()\n",
    "        \n",
    "        # Percentage of missing values\n",
    "        mis_val_percent = 100 * df.isnull().sum() / len(df)\n",
    "        \n",
    "        # Make a table with the results\n",
    "        mis_val_table = pd.concat([mis_val, mis_val_percent], axis=1)\n",
    "        \n",
    "        # Rename the columns\n",
    "        mis_val_table_ren_columns = mis_val_table.rename(\n",
    "        columns = {0 : 'Missing Values', 1 : '% of Total Values'})\n",
    "        \n",
    "        # Sort the table by percentage of missing descending\n",
    "        mis_val_table_ren_columns = mis_val_table_ren_columns[\n",
    "            mis_val_table_ren_columns.iloc[:,1] != 0].sort_values(\n",
    "        '% of Total Values', ascending=False).round(1)\n",
    "        \n",
    "        # Print some summary information\n",
    "        print (\"Your selected dataframe has \" + str(df.shape[1]) + \" columns.\\n\"      \n",
    "            \"There are \" + str(mis_val_table_ren_columns.shape[0]) +\n",
    "              \" columns that have missing values.\")\n",
    "        \n",
    "        # Return the dataframe with missing information\n",
    "        return mis_val_table_ren_columns"
   ]
  },
  {
   "cell_type": "code",
   "execution_count": 60,
   "metadata": {},
   "outputs": [
    {
     "name": "stdout",
     "output_type": "stream",
     "text": [
      "Your selected dataframe has 17 columns.\n",
      "There are 2 columns that have missing values.\n"
     ]
    },
    {
     "data": {
      "text/html": [
       "<div>\n",
       "<style scoped>\n",
       "    .dataframe tbody tr th:only-of-type {\n",
       "        vertical-align: middle;\n",
       "    }\n",
       "\n",
       "    .dataframe tbody tr th {\n",
       "        vertical-align: top;\n",
       "    }\n",
       "\n",
       "    .dataframe thead th {\n",
       "        text-align: right;\n",
       "    }\n",
       "</style>\n",
       "<table border=\"1\" class=\"dataframe\">\n",
       "  <thead>\n",
       "    <tr style=\"text-align: right;\">\n",
       "      <th></th>\n",
       "      <th>Missing Values</th>\n",
       "      <th>% of Total Values</th>\n",
       "    </tr>\n",
       "  </thead>\n",
       "  <tbody>\n",
       "    <tr>\n",
       "      <th>AuthorisedByID</th>\n",
       "      <td>8034</td>\n",
       "      <td>65.3</td>\n",
       "    </tr>\n",
       "    <tr>\n",
       "      <th>DeveloperPerformance</th>\n",
       "      <td>2099</td>\n",
       "      <td>17.1</td>\n",
       "    </tr>\n",
       "  </tbody>\n",
       "</table>\n",
       "</div>"
      ],
      "text/plain": [
       "                      Missing Values  % of Total Values\n",
       "AuthorisedByID                  8034               65.3\n",
       "DeveloperPerformance            2099               17.1"
      ]
     },
     "execution_count": 60,
     "metadata": {},
     "output_type": "execute_result"
    }
   ],
   "source": [
    "missing_values_table(df)"
   ]
  },
  {
   "cell_type": "code",
   "execution_count": 61,
   "metadata": {},
   "outputs": [],
   "source": [
    "# Find most common values in each column with empty values\n",
    "mostCommonValueAuthorisedByID = df.AuthorisedByID.mode()[0]\n",
    "mostCommonValueDeveloperPerformance = df.DeveloperPerformance.mode()[0]\n",
    "\n",
    "#Replace empty values to np.nan\n",
    "df.replace(r'^\\s*$', np.nan, regex=True)\n",
    "\n",
    "#Replace np.nan to most common value in each column\n",
    "df.AuthorisedByID = df.AuthorisedByID.fillna(mostCommonValueAuthorisedByID)\n",
    "df.DeveloperPerformance = df.DeveloperPerformance.fillna(mostCommonValueDeveloperPerformance)"
   ]
  },
  {
   "cell_type": "code",
   "execution_count": 62,
   "metadata": {},
   "outputs": [
    {
     "name": "stdout",
     "output_type": "stream",
     "text": [
      "Your selected dataframe has 17 columns.\n",
      "There are 0 columns that have missing values.\n"
     ]
    },
    {
     "data": {
      "text/html": [
       "<div>\n",
       "<style scoped>\n",
       "    .dataframe tbody tr th:only-of-type {\n",
       "        vertical-align: middle;\n",
       "    }\n",
       "\n",
       "    .dataframe tbody tr th {\n",
       "        vertical-align: top;\n",
       "    }\n",
       "\n",
       "    .dataframe thead th {\n",
       "        text-align: right;\n",
       "    }\n",
       "</style>\n",
       "<table border=\"1\" class=\"dataframe\">\n",
       "  <thead>\n",
       "    <tr style=\"text-align: right;\">\n",
       "      <th></th>\n",
       "      <th>Missing Values</th>\n",
       "      <th>% of Total Values</th>\n",
       "    </tr>\n",
       "  </thead>\n",
       "  <tbody>\n",
       "  </tbody>\n",
       "</table>\n",
       "</div>"
      ],
      "text/plain": [
       "Empty DataFrame\n",
       "Columns: [Missing Values, % of Total Values]\n",
       "Index: []"
      ]
     },
     "execution_count": 62,
     "metadata": {},
     "output_type": "execute_result"
    }
   ],
   "source": [
    "missing_values_table(df)"
   ]
  },
  {
   "cell_type": "code",
   "execution_count": 63,
   "metadata": {},
   "outputs": [],
   "source": [
    "from sklearn import preprocessing\n",
    "label_encoder = preprocessing.LabelEncoder()\n",
    "df.StatusCode = label_encoder.fit_transform(df.StatusCode)\n",
    "df.ProjectCode = label_encoder.fit_transform(df.ProjectCode)\n",
    "df.ProjectBreakdownCode = label_encoder.fit_transform(df.ProjectBreakdownCode)\n",
    "df.Category = label_encoder.fit_transform(df.Category)\n",
    "df.SubCategory = label_encoder.fit_transform(df.SubCategory)"
   ]
  },
  {
   "cell_type": "code",
   "execution_count": 64,
   "metadata": {},
   "outputs": [],
   "source": [
    "#Remove insignificant fields\n",
    "df = df.drop(columns = ['TaskNumber', 'Summary', 'DeveloperHoursActual', 'TaskPerformance', 'DeveloperPerformance'])"
   ]
  },
  {
   "cell_type": "code",
   "execution_count": 45,
   "metadata": {},
   "outputs": [
    {
     "data": {
      "text/html": [
       "<div>\n",
       "<style scoped>\n",
       "    .dataframe tbody tr th:only-of-type {\n",
       "        vertical-align: middle;\n",
       "    }\n",
       "\n",
       "    .dataframe tbody tr th {\n",
       "        vertical-align: top;\n",
       "    }\n",
       "\n",
       "    .dataframe thead th {\n",
       "        text-align: right;\n",
       "    }\n",
       "</style>\n",
       "<table border=\"1\" class=\"dataframe\">\n",
       "  <thead>\n",
       "    <tr style=\"text-align: right;\">\n",
       "      <th></th>\n",
       "      <th>Priority</th>\n",
       "      <th>RaisedByID</th>\n",
       "      <th>AssignedToID</th>\n",
       "      <th>AuthorisedByID</th>\n",
       "      <th>StatusCode</th>\n",
       "      <th>ProjectCode</th>\n",
       "      <th>ProjectBreakdownCode</th>\n",
       "      <th>Category</th>\n",
       "      <th>SubCategory</th>\n",
       "      <th>HoursEstimate</th>\n",
       "      <th>HoursActual</th>\n",
       "      <th>DeveloperID</th>\n",
       "    </tr>\n",
       "  </thead>\n",
       "  <tbody>\n",
       "    <tr>\n",
       "      <th>Priority</th>\n",
       "      <td>1.000000</td>\n",
       "      <td>0.226026</td>\n",
       "      <td>0.276355</td>\n",
       "      <td>-0.102078</td>\n",
       "      <td>-0.141919</td>\n",
       "      <td>0.124817</td>\n",
       "      <td>-0.027318</td>\n",
       "      <td>-0.121025</td>\n",
       "      <td>-0.078352</td>\n",
       "      <td>-0.022654</td>\n",
       "      <td>-0.001145</td>\n",
       "      <td>0.261744</td>\n",
       "    </tr>\n",
       "    <tr>\n",
       "      <th>RaisedByID</th>\n",
       "      <td>0.226026</td>\n",
       "      <td>1.000000</td>\n",
       "      <td>0.713130</td>\n",
       "      <td>0.121140</td>\n",
       "      <td>0.182693</td>\n",
       "      <td>0.256959</td>\n",
       "      <td>-0.021439</td>\n",
       "      <td>0.008119</td>\n",
       "      <td>0.050574</td>\n",
       "      <td>0.125688</td>\n",
       "      <td>0.073342</td>\n",
       "      <td>0.638430</td>\n",
       "    </tr>\n",
       "    <tr>\n",
       "      <th>AssignedToID</th>\n",
       "      <td>0.276355</td>\n",
       "      <td>0.713130</td>\n",
       "      <td>1.000000</td>\n",
       "      <td>0.029396</td>\n",
       "      <td>0.313788</td>\n",
       "      <td>0.286842</td>\n",
       "      <td>-0.017296</td>\n",
       "      <td>-0.038144</td>\n",
       "      <td>-0.021127</td>\n",
       "      <td>0.079375</td>\n",
       "      <td>0.016050</td>\n",
       "      <td>0.824796</td>\n",
       "    </tr>\n",
       "    <tr>\n",
       "      <th>AuthorisedByID</th>\n",
       "      <td>-0.102078</td>\n",
       "      <td>0.121140</td>\n",
       "      <td>0.029396</td>\n",
       "      <td>1.000000</td>\n",
       "      <td>-0.256968</td>\n",
       "      <td>0.076206</td>\n",
       "      <td>0.109017</td>\n",
       "      <td>-0.011329</td>\n",
       "      <td>0.132111</td>\n",
       "      <td>0.041058</td>\n",
       "      <td>0.031428</td>\n",
       "      <td>0.021278</td>\n",
       "    </tr>\n",
       "    <tr>\n",
       "      <th>StatusCode</th>\n",
       "      <td>-0.141919</td>\n",
       "      <td>0.182693</td>\n",
       "      <td>0.313788</td>\n",
       "      <td>-0.256968</td>\n",
       "      <td>1.000000</td>\n",
       "      <td>0.097247</td>\n",
       "      <td>-0.062451</td>\n",
       "      <td>0.061832</td>\n",
       "      <td>0.031345</td>\n",
       "      <td>-0.057912</td>\n",
       "      <td>-0.072186</td>\n",
       "      <td>0.241715</td>\n",
       "    </tr>\n",
       "    <tr>\n",
       "      <th>ProjectCode</th>\n",
       "      <td>0.124817</td>\n",
       "      <td>0.256959</td>\n",
       "      <td>0.286842</td>\n",
       "      <td>0.076206</td>\n",
       "      <td>0.097247</td>\n",
       "      <td>1.000000</td>\n",
       "      <td>0.038982</td>\n",
       "      <td>-0.274797</td>\n",
       "      <td>0.014082</td>\n",
       "      <td>0.025969</td>\n",
       "      <td>-0.013926</td>\n",
       "      <td>0.229863</td>\n",
       "    </tr>\n",
       "    <tr>\n",
       "      <th>ProjectBreakdownCode</th>\n",
       "      <td>-0.027318</td>\n",
       "      <td>-0.021439</td>\n",
       "      <td>-0.017296</td>\n",
       "      <td>0.109017</td>\n",
       "      <td>-0.062451</td>\n",
       "      <td>0.038982</td>\n",
       "      <td>1.000000</td>\n",
       "      <td>-0.133868</td>\n",
       "      <td>0.018427</td>\n",
       "      <td>0.055043</td>\n",
       "      <td>0.005629</td>\n",
       "      <td>-0.003114</td>\n",
       "    </tr>\n",
       "    <tr>\n",
       "      <th>Category</th>\n",
       "      <td>-0.121025</td>\n",
       "      <td>0.008119</td>\n",
       "      <td>-0.038144</td>\n",
       "      <td>-0.011329</td>\n",
       "      <td>0.061832</td>\n",
       "      <td>-0.274797</td>\n",
       "      <td>-0.133868</td>\n",
       "      <td>1.000000</td>\n",
       "      <td>-0.064165</td>\n",
       "      <td>-0.050686</td>\n",
       "      <td>0.001575</td>\n",
       "      <td>-0.026989</td>\n",
       "    </tr>\n",
       "    <tr>\n",
       "      <th>SubCategory</th>\n",
       "      <td>-0.078352</td>\n",
       "      <td>0.050574</td>\n",
       "      <td>-0.021127</td>\n",
       "      <td>0.132111</td>\n",
       "      <td>0.031345</td>\n",
       "      <td>0.014082</td>\n",
       "      <td>0.018427</td>\n",
       "      <td>-0.064165</td>\n",
       "      <td>1.000000</td>\n",
       "      <td>0.001743</td>\n",
       "      <td>0.010146</td>\n",
       "      <td>-0.081343</td>\n",
       "    </tr>\n",
       "    <tr>\n",
       "      <th>HoursEstimate</th>\n",
       "      <td>-0.022654</td>\n",
       "      <td>0.125688</td>\n",
       "      <td>0.079375</td>\n",
       "      <td>0.041058</td>\n",
       "      <td>-0.057912</td>\n",
       "      <td>0.025969</td>\n",
       "      <td>0.055043</td>\n",
       "      <td>-0.050686</td>\n",
       "      <td>0.001743</td>\n",
       "      <td>1.000000</td>\n",
       "      <td>0.261439</td>\n",
       "      <td>0.096598</td>\n",
       "    </tr>\n",
       "    <tr>\n",
       "      <th>HoursActual</th>\n",
       "      <td>-0.001145</td>\n",
       "      <td>0.073342</td>\n",
       "      <td>0.016050</td>\n",
       "      <td>0.031428</td>\n",
       "      <td>-0.072186</td>\n",
       "      <td>-0.013926</td>\n",
       "      <td>0.005629</td>\n",
       "      <td>0.001575</td>\n",
       "      <td>0.010146</td>\n",
       "      <td>0.261439</td>\n",
       "      <td>1.000000</td>\n",
       "      <td>0.029368</td>\n",
       "    </tr>\n",
       "    <tr>\n",
       "      <th>DeveloperID</th>\n",
       "      <td>0.261744</td>\n",
       "      <td>0.638430</td>\n",
       "      <td>0.824796</td>\n",
       "      <td>0.021278</td>\n",
       "      <td>0.241715</td>\n",
       "      <td>0.229863</td>\n",
       "      <td>-0.003114</td>\n",
       "      <td>-0.026989</td>\n",
       "      <td>-0.081343</td>\n",
       "      <td>0.096598</td>\n",
       "      <td>0.029368</td>\n",
       "      <td>1.000000</td>\n",
       "    </tr>\n",
       "  </tbody>\n",
       "</table>\n",
       "</div>"
      ],
      "text/plain": [
       "                      Priority  RaisedByID  AssignedToID  AuthorisedByID  \\\n",
       "Priority              1.000000    0.226026      0.276355       -0.102078   \n",
       "RaisedByID            0.226026    1.000000      0.713130        0.121140   \n",
       "AssignedToID          0.276355    0.713130      1.000000        0.029396   \n",
       "AuthorisedByID       -0.102078    0.121140      0.029396        1.000000   \n",
       "StatusCode           -0.141919    0.182693      0.313788       -0.256968   \n",
       "ProjectCode           0.124817    0.256959      0.286842        0.076206   \n",
       "ProjectBreakdownCode -0.027318   -0.021439     -0.017296        0.109017   \n",
       "Category             -0.121025    0.008119     -0.038144       -0.011329   \n",
       "SubCategory          -0.078352    0.050574     -0.021127        0.132111   \n",
       "HoursEstimate        -0.022654    0.125688      0.079375        0.041058   \n",
       "HoursActual          -0.001145    0.073342      0.016050        0.031428   \n",
       "DeveloperID           0.261744    0.638430      0.824796        0.021278   \n",
       "\n",
       "                      StatusCode  ProjectCode  ProjectBreakdownCode  Category  \\\n",
       "Priority               -0.141919     0.124817             -0.027318 -0.121025   \n",
       "RaisedByID              0.182693     0.256959             -0.021439  0.008119   \n",
       "AssignedToID            0.313788     0.286842             -0.017296 -0.038144   \n",
       "AuthorisedByID         -0.256968     0.076206              0.109017 -0.011329   \n",
       "StatusCode              1.000000     0.097247             -0.062451  0.061832   \n",
       "ProjectCode             0.097247     1.000000              0.038982 -0.274797   \n",
       "ProjectBreakdownCode   -0.062451     0.038982              1.000000 -0.133868   \n",
       "Category                0.061832    -0.274797             -0.133868  1.000000   \n",
       "SubCategory             0.031345     0.014082              0.018427 -0.064165   \n",
       "HoursEstimate          -0.057912     0.025969              0.055043 -0.050686   \n",
       "HoursActual            -0.072186    -0.013926              0.005629  0.001575   \n",
       "DeveloperID             0.241715     0.229863             -0.003114 -0.026989   \n",
       "\n",
       "                      SubCategory  HoursEstimate  HoursActual  DeveloperID  \n",
       "Priority                -0.078352      -0.022654    -0.001145     0.261744  \n",
       "RaisedByID               0.050574       0.125688     0.073342     0.638430  \n",
       "AssignedToID            -0.021127       0.079375     0.016050     0.824796  \n",
       "AuthorisedByID           0.132111       0.041058     0.031428     0.021278  \n",
       "StatusCode               0.031345      -0.057912    -0.072186     0.241715  \n",
       "ProjectCode              0.014082       0.025969    -0.013926     0.229863  \n",
       "ProjectBreakdownCode     0.018427       0.055043     0.005629    -0.003114  \n",
       "Category                -0.064165      -0.050686     0.001575    -0.026989  \n",
       "SubCategory              1.000000       0.001743     0.010146    -0.081343  \n",
       "HoursEstimate            0.001743       1.000000     0.261439     0.096598  \n",
       "HoursActual              0.010146       0.261439     1.000000     0.029368  \n",
       "DeveloperID             -0.081343       0.096598     0.029368     1.000000  "
      ]
     },
     "execution_count": 45,
     "metadata": {},
     "output_type": "execute_result"
    }
   ],
   "source": [
    "df.corr()"
   ]
  },
  {
   "cell_type": "code",
   "execution_count": 26,
   "metadata": {
    "scrolled": true
   },
   "outputs": [
    {
     "data": {
      "image/png": "[encoded data removed]",
      "text/plain": [
       "<Figure size 2160x2160 with 2 Axes>"
      ]
     },
     "metadata": {
      "needs_background": "light"
     },
     "output_type": "display_data"
    }
   ],
   "source": [
    "#Using Pearson Correlation\n",
    "import seaborn as sns\n",
    "plt.figure(figsize=(30,30))\n",
    "cor = df.corr()\n",
    "sns.heatmap(cor, annot=True, cmap=plt.cm.Reds)\n",
    "plt.show()"
   ]
  },
  {
   "cell_type": "code",
   "execution_count": 65,
   "metadata": {},
   "outputs": [],
   "source": [
    "#Remove columns with low correlation values\n",
    "df = df.drop(columns = ['Priority', 'ProjectBreakdownCode', 'SubCategory'])"
   ]
  },
  {
   "cell_type": "code",
   "execution_count": 29,
   "metadata": {},
   "outputs": [],
   "source": [
    "# SVR"
   ]
  },
  {
   "cell_type": "code",
   "execution_count": 30,
   "metadata": {},
   "outputs": [],
   "source": [
    "def launch_model(name,model, X_train, y_train, X_test, y_test):\n",
    "    start = time.time()\n",
    "    model.fit(X_train[predictors], y_train)\n",
    "    y_pred = model.predict(X_test[predictors])\n",
    "    ypred_train = model.predict(X_train[predictors])\n",
    "    print ('RMSE', math.sqrt(mean_squared_error(y_test, y_pred)))\n",
    "    print ('MAE', mean_absolute_error(y_test, y_pred))\n",
    "    r_2 = round(r2_score(y_test, y_pred), 2)\n",
    "    print ('R^2', r_2)\n",
    "    print('Execution time: {0:.2f} sec.'.format(time.time() - start))\n",
    "    return name + '($R^2={:.3f}$)'.format(r_2), np.array(y_test), y_pred"
   ]
  },
  {
   "cell_type": "code",
   "execution_count": 31,
   "metadata": {},
   "outputs": [],
   "source": [
    "def plot(results):\n",
    "\n",
    "    fig, plts = plt.subplots(nrows=len(results), figsize=(8, 8))\n",
    "    fig.canvas.set_window_title('Predicting Boston')\n",
    "\n",
    "    for subplot, (title, y, y_pred) in zip(plts, results):\n",
    "\n",
    "        subplot.set_xticklabels(())\n",
    "        subplot.set_yticklabels(())\n",
    "\n",
    "        subplot.set_ylabel('Precio casa')\n",
    "\n",
    "        subplot.set_title(title)\n",
    "\n",
    "        subplot.plot(y, 'b', label='actual')\n",
    "        subplot.plot(y_pred, 'r', label='predicted')\n",
    "        \n",
    "        subplot.fill_between(\n",
    "            np.arange(0, len(y), 1),\n",
    "            y,\n",
    "            y_pred,\n",
    "            color='r',\n",
    "            alpha=0.2\n",
    "        )\n",
    "        subplot.axvline(len(y) // 2, linestyle='--', color='0', alpha=0.2)\n",
    "        subplot.legend()\n",
    "    fig.tight_layout()\n",
    "    plt.show()\n",
    "    plt.savefig('plot.png')\n",
    "    plt.close()"
   ]
  },
  {
   "cell_type": "code",
   "execution_count": 32,
   "metadata": {},
   "outputs": [],
   "source": [
    "target = df['HoursActual']\n",
    "predictors = ['RaisedByID', 'AssignedToID', 'AuthorisedByID', 'StatusCode',\n",
    "       'ProjectCode', 'Category', 'HoursEstimate',\n",
    "       'DeveloperID']\n",
    "X_train, X_test, y_train, y_test = train_test_split(df, target, test_size=0.2)"
   ]
  },
  {
   "cell_type": "code",
   "execution_count": 33,
   "metadata": {},
   "outputs": [],
   "source": [
    "svr_rbf = SVR(kernel='rbf', gamma=0.1)\n",
    "svr_lineal = SVR(kernel='linear')\n",
    "lr = LinearRegression()"
   ]
  },
  {
   "cell_type": "code",
   "execution_count": 34,
   "metadata": {},
   "outputs": [
    {
     "name": "stdout",
     "output_type": "stream",
     "text": [
      "-----------\n",
      "SVR - RBF\n",
      "-----------\n",
      "RMSE 56.76882537574144\n",
      "MAE 10.057701733186938\n",
      "R^2 -0.0\n",
      "Execution time: 8.75 sec.\n",
      "-----------\n",
      "SVR - lineal\n",
      "-----------\n",
      "RMSE 54.6103926805774\n",
      "MAE 9.532031868404342\n",
      "R^2 0.07\n",
      "Execution time: 263.05 sec.\n",
      "-----------\n",
      "Regresion lineal\n",
      "-----------\n",
      "RMSE 54.034632821265426\n",
      "MAE 13.473326993314206\n",
      "R^2 0.09\n",
      "Execution time: 0.02 sec.\n"
     ]
    }
   ],
   "source": [
    "results = []\n",
    "print ('-----------')\n",
    "print ('SVR - RBF')\n",
    "print ('-----------')\n",
    "results.append(launch_model('SVR - RBF', svr_rbf, X_train, y_train, X_test, y_test))\n",
    "print ('-----------')\n",
    "print ('SVR - lineal')\n",
    "print ('-----------')\n",
    "results.append(launch_model('SVR - lineal', svr_lineal, X_train, y_train, X_test, y_test))\n",
    "print ('-----------')\n",
    "print ('Regresion lineal')\n",
    "print ('-----------')\n",
    "results.append(launch_model('Regresion lineal', lr, X_train, y_train, X_test, y_test))"
   ]
  },
  {
   "cell_type": "code",
   "execution_count": 35,
   "metadata": {},
   "outputs": [
    {
     "data": {
      "image/png": "[encoded data removed]",
      "text/plain": [
       "<Figure size 576x576 with 3 Axes>"
      ]
     },
     "metadata": {
      "needs_background": "light"
     },
     "output_type": "display_data"
    }
   ],
   "source": [
    "plot(results)"
   ]
  },
  {
   "cell_type": "code",
   "execution_count": null,
   "metadata": {},
   "outputs": [],
   "source": []
  },
  {
   "cell_type": "code",
   "execution_count": null,
   "metadata": {},
   "outputs": [],
   "source": [
    "# Random Forests"
   ]
  },
  {
   "cell_type": "code",
   "execution_count": 47,
   "metadata": {},
   "outputs": [],
   "source": [
    "labels = np.array(df['HoursActual'])\n",
    "df = df.drop('HoursActual', axis = 1)\n",
    "feature_list = list(df.columns)\n",
    "features = np.array(df)"
   ]
  },
  {
   "cell_type": "code",
   "execution_count": 48,
   "metadata": {},
   "outputs": [],
   "source": [
    "train_features, test_features, train_labels, test_labels = train_test_split(features, labels, test_size = 0.25, random_state = 42)"
   ]
  },
  {
   "cell_type": "code",
   "execution_count": 49,
   "metadata": {},
   "outputs": [],
   "source": [
    "rf = RandomForestRegressor(n_estimators = 100) #, random_state = 42\n",
    "rf.fit(train_features, train_labels);"
   ]
  },
  {
   "cell_type": "code",
   "execution_count": 50,
   "metadata": {},
   "outputs": [],
   "source": [
    "predictions = rf.predict(test_features)"
   ]
  },
  {
   "cell_type": "code",
   "execution_count": 51,
   "metadata": {},
   "outputs": [
    {
     "name": "stdout",
     "output_type": "stream",
     "text": [
      "Mean Absolute Error: 9.459656268788688\n",
      "Mean Squared Error Root: 40.37720835056004\n",
      "R^2: 0.56\n"
     ]
    }
   ],
   "source": [
    "mae = mean_absolute_error(test_labels, predictions)\n",
    "print('Mean Absolute Error:', mae)\n",
    "mse_sqrt = math.sqrt(mean_squared_error(test_labels, predictions))\n",
    "print('Mean Squared Error Root:', mse_sqrt)\n",
    "r2 = round(r2_score(test_labels, predictions), 2)\n",
    "print('R^2:', r2)"
   ]
  },
  {
   "cell_type": "code",
   "execution_count": 52,
   "metadata": {},
   "outputs": [],
   "source": [
    "results.append(('Random Forest' + '($R^2={:.3f}$)'.format(r2), np.array(y_test), predictions))"
   ]
  },
  {
   "cell_type": "code",
   "execution_count": null,
   "metadata": {},
   "outputs": [],
   "source": []
  },
  {
   "cell_type": "code",
   "execution_count": 53,
   "metadata": {},
   "outputs": [
    {
     "name": "stdout",
     "output_type": "stream",
     "text": [
      "Variable: HoursEstimate        Importance: 0.3\n",
      "Variable: AssignedToID         Importance: 0.26\n",
      "Variable: ProjectCode          Importance: 0.12\n",
      "Variable: RaisedByID           Importance: 0.1\n",
      "Variable: DeveloperID          Importance: 0.1\n",
      "Variable: StatusCode           Importance: 0.06\n",
      "Variable: Category             Importance: 0.06\n",
      "Variable: AuthorisedByID       Importance: 0.0\n"
     ]
    }
   ],
   "source": [
    "# Get numerical feature importances\n",
    "importances = list(rf.feature_importances_)\n",
    "# List of tuples with variable and importance\n",
    "feature_importances = [(feature, round(importance, 2)) for feature, importance in zip(feature_list, importances)]\n",
    "# Sort the feature importances by most important first\n",
    "feature_importances = sorted(feature_importances, key = lambda x: x[1], reverse = True)\n",
    "# Print out the feature and importances \n",
    "[print('Variable: {:20} Importance: {}'.format(*pair)) for pair in feature_importances];\n",
    "#In future implementations of the model, we can remove those variables \n",
    "# that have no importance and the performance will not suffer."
   ]
  },
  {
   "cell_type": "code",
   "execution_count": 54,
   "metadata": {},
   "outputs": [
    {
     "data": {
      "image/png": "[encoded data removed]",
      "text/plain": [
       "<Figure size 432x288 with 1 Axes>"
      ]
     },
     "metadata": {},
     "output_type": "display_data"
    }
   ],
   "source": [
    "# Import matplotlib for plotting and use magic command for Jupyter Notebooks\n",
    "%matplotlib inline\n",
    "# Set the style\n",
    "plt.style.use('fivethirtyeight')\n",
    "# list of x locations for plotting\n",
    "x_values = list(range(len(importances)))\n",
    "# Make a bar chart\n",
    "plt.bar(x_values, importances, orientation = 'vertical')\n",
    "# Tick labels for x axis\n",
    "plt.xticks(x_values, feature_list, rotation='vertical')\n",
    "# Axis labels and title\n",
    "plt.ylabel('Importance'); plt.xlabel('Variable'); plt.title('Variable Importances');"
   ]
  },
  {
   "cell_type": "code",
   "execution_count": null,
   "metadata": {},
   "outputs": [],
   "source": []
  },
  {
   "cell_type": "code",
   "execution_count": null,
   "metadata": {},
   "outputs": [],
   "source": [
    "#GRNN"
   ]
  },
  {
   "cell_type": "code",
   "execution_count": 66,
   "metadata": {},
   "outputs": [],
   "source": [
    "y = df['HoursActual'].values.ravel()\n",
    "X = df.drop([\"HoursActual\"], axis = 1).values\n",
    "X_train, X_test, y_train, y_test = train_test_split(preprocessing.minmax_scale(X), y.reshape((-1, 1)), test_size=0.25, random_state = 42)"
   ]
  },
  {
   "cell_type": "code",
   "execution_count": 67,
   "metadata": {},
   "outputs": [],
   "source": [
    "featnames=list(df.drop([\"HoursActual\"], axis = 1).columns)"
   ]
  },
  {
   "cell_type": "code",
   "execution_count": 68,
   "metadata": {},
   "outputs": [],
   "source": [
    "IsotropicSelector = FS.Isotropic_selector()"
   ]
  },
  {
   "cell_type": "code",
   "execution_count": 69,
   "metadata": {},
   "outputs": [
    {
     "name": "stdout",
     "output_type": "stream",
     "text": [
      "Searching relatidness for feature 0\n",
      "Best subset is: ['AssignedToID', 'AuthorisedByID', 'ProjectCode', 'Category', 'DeveloperID']\n",
      "Searching relatidness for feature 1\n",
      "Best subset is: ['RaisedByID', 'StatusCode', 'ProjectCode', 'DeveloperID']\n",
      "Searching relatidness for feature 2\n",
      "Best subset is: ['AssignedToID', 'StatusCode', 'ProjectCode', 'Category']\n",
      "Searching relatidness for feature 3\n",
      "Best subset is: ['RaisedByID', 'AssignedToID', 'AuthorisedByID', 'ProjectCode', 'Category', 'HoursEstimate']\n",
      "Searching relatidness for feature 4\n",
      "Best subset is: ['RaisedByID', 'AssignedToID', 'AuthorisedByID', 'StatusCode', 'Category', 'HoursEstimate']\n",
      "Searching relatidness for feature 5\n",
      "Best subset is: ['AssignedToID', 'StatusCode', 'ProjectCode']\n",
      "Searching relatidness for feature 6\n",
      "Best subset is: ['RaisedByID', 'AssignedToID', 'StatusCode', 'ProjectCode', 'Category']\n",
      "Searching relatidness for feature 7\n",
      "Best subset is: ['RaisedByID', 'AssignedToID', 'ProjectCode']\n",
      "Time to complete the search [s]: 125.37967467308044\n"
     ]
    },
    {
     "data": {
      "image/png": "[encoded data removed]",
      "text/plain": [
       "<Figure size 792x648 with 2 Axes>"
      ]
     },
     "metadata": {},
     "output_type": "display_data"
    }
   ],
   "source": [
    "start = time.time()\n",
    "IsotropicSelector.relatidness(X_train, feature_names=featnames, strategy = 'ffs')\n",
    "IsotropicSelector.plot_(featnames)\n",
    "print('Time to complete the search [s]: ' + str(time.time() - start))"
   ]
  },
  {
   "cell_type": "code",
   "execution_count": 70,
   "metadata": {},
   "outputs": [
    {
     "name": "stdout",
     "output_type": "stream",
     "text": [
      "Selecting the best subset of features using a forward fs strategy:\n",
      "Best subset is: ['RaisedByID', 'AssignedToID', 'StatusCode', 'ProjectCode', 'Category', 'HoursEstimate']\n",
      "Time to complete the search [s]: 23.33861470222473\n"
     ]
    }
   ],
   "source": [
    "print('Selecting the best subset of features using a forward fs strategy:')\n",
    "start = time.time()\n",
    "IsotropicSelector.ffs(X_train, y_train, feature_names=featnames)\n",
    "print('Time to complete the search [s]: ' + str(time.time() - start))"
   ]
  },
  {
   "cell_type": "code",
   "execution_count": 71,
   "metadata": {},
   "outputs": [
    {
     "name": "stdout",
     "output_type": "stream",
     "text": [
      "Selecting the best subset of features using a backward fs strategy:\n",
      "Best subset is: ['HoursEstimate', 'Category', 'ProjectCode', 'StatusCode', 'AssignedToID', 'RaisedByID']\n",
      "Time to complete the search [s]: 15.05724573135376\n"
     ]
    }
   ],
   "source": [
    "print('Selecting the best subset of features using a backward fs strategy:')\n",
    "start = time.time()\n",
    "IsotropicSelector.bfs(X_train, y_train, feature_names=featnames)\n",
    "print('Time to complete the search [s]: ' + str(time.time() - start))"
   ]
  },
  {
   "cell_type": "code",
   "execution_count": 72,
   "metadata": {},
   "outputs": [
    {
     "name": "stdout",
     "output_type": "stream",
     "text": [
      "Selecting the best subset of features using an exhaustive search:\n",
      "Exploring the 255 possible combination of features...\n",
      "The best subset of features is ['RaisedByID', 'AssignedToID', 'StatusCode', 'ProjectCode', 'Category', 'HoursEstimate']\n",
      "Time to complete the search [s]: 148.74216151237488\n"
     ]
    }
   ],
   "source": [
    "print('Selecting the best subset of features using an exhaustive search:')\n",
    "start = time.time()\n",
    "IsotropicSelector.es(X_train, y_train, feature_names=featnames)\n",
    "print('Time to complete the search [s]: ' + str(time.time() - start))"
   ]
  },
  {
   "cell_type": "code",
   "execution_count": 73,
   "metadata": {},
   "outputs": [
    {
     "name": "stdout",
     "output_type": "stream",
     "text": [
      "Performing a complete feature selection from scratch:\n",
      "Searching relevant features...\n",
      "Best subset is: ['RaisedByID', 'AssignedToID', 'StatusCode', 'ProjectCode', 'Category', 'HoursEstimate']\n",
      "Searching the best subset to predict feature 0\n",
      "Best subset is: ['AssignedToID', 'AuthorisedByID', 'ProjectCode', 'Category', 'DeveloperID']\n",
      "[0, 3, 6]\n",
      "Searching the best subset to predict feature 1\n",
      "Best subset is: ['RaisedByID', 'StatusCode', 'ProjectCode', 'DeveloperID']\n",
      "[1, 2, 5, 6]\n",
      "Searching the best subset to predict feature 3\n",
      "Best subset is: ['RaisedByID', 'AssignedToID', 'AuthorisedByID', 'ProjectCode', 'Category', 'HoursEstimate']\n",
      "[3, 7]\n",
      "Searching the best subset to predict feature 4\n",
      "Best subset is: ['RaisedByID', 'AssignedToID', 'AuthorisedByID', 'StatusCode', 'Category', 'HoursEstimate']\n",
      "[4, 7]\n",
      "Searching the best subset to predict feature 5\n",
      "Best subset is: ['AssignedToID', 'StatusCode', 'ProjectCode']\n",
      "[0, 2, 5, 6, 7]\n",
      "Searching the best subset to predict feature 6\n",
      "Best subset is: ['RaisedByID', 'AssignedToID', 'StatusCode', 'ProjectCode', 'Category']\n",
      "[2, 6, 7]\n",
      "Research completed!\n",
      "The relevant features are: ['RaisedByID', 'AssignedToID', 'StatusCode', 'ProjectCode', 'Category', 'HoursEstimate']\n",
      "The redundant features are: ['AuthorisedByID', 'DeveloperID']\n",
      "The irrelevant features are: []\n",
      "Time to complete the feature selection [s]: 107.57693266868591\n"
     ]
    }
   ],
   "source": [
    "print('Performing a complete feature selection from scratch:')\n",
    "start = time.time()\n",
    "IsotropicSelector.feat_selection(X_train, y_train, feature_names=featnames, strategy = 'ffs')\n",
    "print('Time to complete the feature selection [s]: ' + str(time.time() - start))"
   ]
  },
  {
   "cell_type": "code",
   "execution_count": 74,
   "metadata": {},
   "outputs": [],
   "source": [
    "best_set = IsotropicSelector.best_inSpaceIndex\n",
    "X_train_BestSet = X_train[:,best_set]\n",
    "X_test_BestSet = X_test[:,best_set]"
   ]
  },
  {
   "cell_type": "code",
   "execution_count": 75,
   "metadata": {},
   "outputs": [
    {
     "name": "stdout",
     "output_type": "stream",
     "text": [
      "Fitting 5 folds for each of 390 candidates, totalling 1950 fits\n"
     ]
    },
    {
     "name": "stderr",
     "output_type": "stream",
     "text": [
      "[Parallel(n_jobs=-1)]: Using backend LokyBackend with 4 concurrent workers.\n",
      "[Parallel(n_jobs=-1)]: Done  42 tasks      | elapsed:   23.9s\n",
      "[Parallel(n_jobs=-1)]: Done 192 tasks      | elapsed:  1.2min\n",
      "[Parallel(n_jobs=-1)]: Done 442 tasks      | elapsed:  2.5min\n",
      "[Parallel(n_jobs=-1)]: Done 792 tasks      | elapsed:  4.4min\n",
      "[Parallel(n_jobs=-1)]: Done 1242 tasks      | elapsed:  6.7min\n",
      "[Parallel(n_jobs=-1)]: Done 1792 tasks      | elapsed:  9.3min\n",
      "[Parallel(n_jobs=-1)]: Done 1950 out of 1950 | elapsed: 10.1min finished\n"
     ]
    },
    {
     "name": "stdout",
     "output_type": "stream",
     "text": [
      "MSE with IGRNN (after feature selection): 3325.0765916037703\n"
     ]
    }
   ],
   "source": [
    "# Instantiate the estimator\n",
    "IGRNN = GRNN()\n",
    "# Define the parameters for a GridSearch CV and fit the model\n",
    "params_IGRNN = {'kernel':[\"RBF\"],\n",
    "                'sigma' : list(np.arange(0.1, 4, 0.01)),\n",
    "                'calibration' : ['None']\n",
    "                 }\n",
    "grid_IGRNN = GridSearchCV(estimator=IGRNN,\n",
    "                          param_grid=params_IGRNN,\n",
    "                          scoring='neg_mean_squared_error',\n",
    "                          cv=5,\n",
    "                          verbose=1,\n",
    "                          n_jobs = -1\n",
    "                          )\n",
    "grid_IGRNN.fit(X_train_BestSet, y_train.ravel())\n",
    "# Use the best model to perform prediction, and compute mse\n",
    "best_model = grid_IGRNN.best_estimator_\n",
    "y_pred = best_model.predict(X_test_BestSet)\n",
    "mse_IGRNN = MSE(y_test, y_pred)\n",
    "print('MSE with IGRNN (after feature selection): ' + str(mse_IGRNN))"
   ]
  },
  {
   "cell_type": "code",
   "execution_count": 76,
   "metadata": {},
   "outputs": [
    {
     "name": "stdout",
     "output_type": "stream",
     "text": [
      "Mean Absolute Error: 14.30063598799706\n",
      "Mean Squared Error Root: 57.663477102961544\n",
      "R^2: 0.11\n"
     ]
    }
   ],
   "source": [
    "mae = mean_absolute_error(y_test, y_pred)\n",
    "print('Mean Absolute Error:', mae)\n",
    "mse_sqrt = math.sqrt(mean_squared_error(y_test, y_pred))\n",
    "print('Mean Squared Error Root:', mse_sqrt)\n",
    "r2 = round(r2_score(y_test, y_pred), 2)\n",
    "print('R^2:', r2)"
   ]
  },
  {
   "cell_type": "code",
   "execution_count": null,
   "metadata": {},
   "outputs": [],
   "source": [
    "df.effort.mode()[0]"
   ]
  },
  {
   "cell_type": "code",
   "execution_count": null,
   "metadata": {},
   "outputs": [],
   "source": []
  },
  {
   "cell_type": "code",
   "execution_count": null,
   "metadata": {},
   "outputs": [],
   "source": [
    "#Usual NN"
   ]
  },
  {
   "cell_type": "code",
   "execution_count": 77,
   "metadata": {},
   "outputs": [
    {
     "data": {
      "text/plain": [
       "array(['RaisedByID', 'AssignedToID', 'AuthorisedByID', 'StatusCode',\n",
       "       'ProjectCode', 'Category', 'HoursEstimate', 'HoursActual',\n",
       "       'DeveloperID'], dtype=object)"
      ]
     },
     "execution_count": 77,
     "metadata": {},
     "output_type": "execute_result"
    }
   ],
   "source": [
    "df.columns.values"
   ]
  },
  {
   "cell_type": "code",
   "execution_count": 78,
   "metadata": {},
   "outputs": [],
   "source": [
    "y1 = np.array(df.HoursActual)\n",
    "\n",
    "x1 = np.column_stack((df.RaisedByID, df.AssignedToID, df.AuthorisedByID, df.StatusCode,\n",
    "                      df.ProjectCode, df.Category, df.HoursEstimate,df.DeveloperID))\n",
    "x1 = sm.add_constant(x1, prepend=True)\n",
    "\n",
    "X_train, X_val, y_train, y_val = train_test_split(x1, y1)"
   ]
  },
  {
   "cell_type": "code",
   "execution_count": 79,
   "metadata": {},
   "outputs": [
    {
     "name": "stdout",
     "output_type": "stream",
     "text": [
      "MinMaxScaler()\n",
      "MinMaxScaler()\n",
      "MinMaxScaler()\n",
      "MinMaxScaler()\n"
     ]
    }
   ],
   "source": [
    "# The training and validation data is then scaled using MinMaxScaler:\n",
    "y_train=np.reshape(y_train, (-1,1))\n",
    "y_val=np.reshape(y_val, (-1,1))\n",
    "scaler_x = MinMaxScaler()\n",
    "scaler_y = MinMaxScaler()\n",
    "print(scaler_x.fit(X_train))\n",
    "xtrain_scale=scaler_x.transform(X_train)\n",
    "print(scaler_x.fit(X_val))\n",
    "xval_scale=scaler_x.transform(X_val)\n",
    "print(scaler_y.fit(y_train))\n",
    "ytrain_scale=scaler_y.transform(y_train)\n",
    "print(scaler_y.fit(y_val))\n",
    "yval_scale=scaler_y.transform(y_val)"
   ]
  },
  {
   "cell_type": "code",
   "execution_count": 140,
   "metadata": {},
   "outputs": [
    {
     "name": "stdout",
     "output_type": "stream",
     "text": [
      "Model: \"sequential_12\"\n",
      "_________________________________________________________________\n",
      "Layer (type)                 Output Shape              Param #   \n",
      "=================================================================\n",
      "dense_36 (Dense)             (None, 9)                 90        \n",
      "_________________________________________________________________\n",
      "dense_37 (Dense)             (None, 10000)             100000    \n",
      "_________________________________________________________________\n",
      "dense_38 (Dense)             (None, 1)                 10001     \n",
      "=================================================================\n",
      "Total params: 110,091\n",
      "Trainable params: 110,091\n",
      "Non-trainable params: 0\n",
      "_________________________________________________________________\n"
     ]
    }
   ],
   "source": [
    "model = Sequential()\n",
    "model.add(Dense(9, input_dim=9, kernel_initializer='normal', activation='elu'))\n",
    "model.add(Dense(10000, activation='elu'))\n",
    "model.add(Dense(1, activation='linear'))\n",
    "model.summary()"
   ]
  },
  {
   "cell_type": "code",
   "execution_count": 146,
   "metadata": {},
   "outputs": [
    {
     "name": "stdout",
     "output_type": "stream",
     "text": [
      "Epoch 1/50\n",
      "22/22 [==============================] - 2s 54ms/step - loss: 0.0013 - mse: 0.0013 - mae: 0.0084 - val_loss: 1.4228e-04 - val_mse: 1.4228e-04 - val_mae: 0.0073\n",
      "Epoch 2/50\n",
      "22/22 [==============================] - 1s 42ms/step - loss: 0.0011 - mse: 0.0011 - mae: 0.0075 - val_loss: 1.2489e-04 - val_mse: 1.2489e-04 - val_mae: 0.0045\n",
      "Epoch 3/50\n",
      "22/22 [==============================] - 1s 44ms/step - loss: 7.9721e-04 - mse: 7.9721e-04 - mae: 0.0061 - val_loss: 1.2669e-04 - val_mse: 1.2669e-04 - val_mae: 0.0058\n",
      "Epoch 4/50\n",
      "22/22 [==============================] - 1s 43ms/step - loss: 0.0011 - mse: 0.0011 - mae: 0.0067 - val_loss: 1.2856e-04 - val_mse: 1.2856e-04 - val_mae: 0.0047\n",
      "Epoch 5/50\n",
      "22/22 [==============================] - 1s 41ms/step - loss: 6.6940e-04 - mse: 6.6940e-04 - mae: 0.0056 - val_loss: 1.2311e-04 - val_mse: 1.2311e-04 - val_mae: 0.0052\n",
      "Epoch 6/50\n",
      "22/22 [==============================] - 1s 40ms/step - loss: 7.9872e-04 - mse: 7.9872e-04 - mae: 0.0059 - val_loss: 1.2235e-04 - val_mse: 1.2235e-04 - val_mae: 0.0051\n",
      "Epoch 7/50\n",
      "22/22 [==============================] - 1s 44ms/step - loss: 0.0013 - mse: 0.0013 - mae: 0.0067 - val_loss: 1.2255e-04 - val_mse: 1.2255e-04 - val_mae: 0.0050\n",
      "Epoch 8/50\n",
      "22/22 [==============================] - 1s 42ms/step - loss: 9.5266e-04 - mse: 9.5266e-04 - mae: 0.0062 - val_loss: 1.2379e-04 - val_mse: 1.2379e-04 - val_mae: 0.0053\n",
      "Epoch 9/50\n",
      "22/22 [==============================] - 1s 45ms/step - loss: 8.3652e-04 - mse: 8.3652e-04 - mae: 0.0062 - val_loss: 1.2317e-04 - val_mse: 1.2317e-04 - val_mae: 0.0046\n",
      "Epoch 10/50\n",
      "22/22 [==============================] - 1s 41ms/step - loss: 9.3750e-04 - mse: 9.3750e-04 - mae: 0.0065 - val_loss: 1.2149e-04 - val_mse: 1.2149e-04 - val_mae: 0.0049\n",
      "Epoch 11/50\n",
      "22/22 [==============================] - 1s 44ms/step - loss: 0.0015 - mse: 0.0015 - mae: 0.0073 - val_loss: 1.2366e-04 - val_mse: 1.2366e-04 - val_mae: 0.0041\n",
      "Epoch 12/50\n",
      "22/22 [==============================] - 1s 44ms/step - loss: 0.0016 - mse: 0.0016 - mae: 0.0073 - val_loss: 1.2706e-04 - val_mse: 1.2706e-04 - val_mae: 0.0059\n",
      "Epoch 13/50\n",
      "22/22 [==============================] - 1s 43ms/step - loss: 5.6007e-04 - mse: 5.6007e-04 - mae: 0.0060 - val_loss: 1.2782e-04 - val_mse: 1.2782e-04 - val_mae: 0.0059\n",
      "Epoch 14/50\n",
      "22/22 [==============================] - 1s 45ms/step - loss: 0.0012 - mse: 0.0012 - mae: 0.0068 - val_loss: 1.2652e-04 - val_mse: 1.2652e-04 - val_mae: 0.0048\n",
      "Epoch 15/50\n",
      "22/22 [==============================] - 1s 42ms/step - loss: 0.0010 - mse: 0.0010 - mae: 0.0066 - val_loss: 1.4112e-04 - val_mse: 1.4112e-04 - val_mae: 0.0053\n",
      "Epoch 16/50\n",
      "22/22 [==============================] - 1s 42ms/step - loss: 6.1576e-04 - mse: 6.1576e-04 - mae: 0.0059 - val_loss: 1.4103e-04 - val_mse: 1.4103e-04 - val_mae: 0.0074\n",
      "Epoch 17/50\n",
      "22/22 [==============================] - 1s 41ms/step - loss: 8.7295e-04 - mse: 8.7295e-04 - mae: 0.0067 - val_loss: 1.3181e-04 - val_mse: 1.3181e-04 - val_mae: 0.0064\n",
      "Epoch 18/50\n",
      "22/22 [==============================] - 1s 42ms/step - loss: 9.8416e-04 - mse: 9.8416e-04 - mae: 0.0069 - val_loss: 1.3766e-04 - val_mse: 1.3766e-04 - val_mae: 0.0055\n",
      "Epoch 19/50\n",
      "22/22 [==============================] - 1s 40ms/step - loss: 0.0013 - mse: 0.0013 - mae: 0.0071 - val_loss: 1.2412e-04 - val_mse: 1.2412e-04 - val_mae: 0.0045\n",
      "Epoch 20/50\n",
      "22/22 [==============================] - 1s 42ms/step - loss: 0.0012 - mse: 0.0012 - mae: 0.0066 - val_loss: 1.2326e-04 - val_mse: 1.2326e-04 - val_mae: 0.0043\n",
      "Epoch 21/50\n",
      "22/22 [==============================] - 1s 42ms/step - loss: 5.8772e-04 - mse: 5.8772e-04 - mae: 0.0053 - val_loss: 1.2131e-04 - val_mse: 1.2131e-04 - val_mae: 0.0045\n",
      "Epoch 22/50\n",
      "22/22 [==============================] - 1s 43ms/step - loss: 8.1722e-04 - mse: 8.1722e-04 - mae: 0.0060 - val_loss: 1.2261e-04 - val_mse: 1.2261e-04 - val_mae: 0.0050\n",
      "Epoch 23/50\n",
      "22/22 [==============================] - 1s 41ms/step - loss: 0.0014 - mse: 0.0014 - mae: 0.0069 - val_loss: 1.2667e-04 - val_mse: 1.2667e-04 - val_mae: 0.0058\n",
      "Epoch 24/50\n",
      "22/22 [==============================] - 1s 43ms/step - loss: 9.5210e-04 - mse: 9.5210e-04 - mae: 0.0062 - val_loss: 1.2356e-04 - val_mse: 1.2356e-04 - val_mae: 0.0054\n",
      "Epoch 25/50\n",
      "22/22 [==============================] - 1s 43ms/step - loss: 5.5621e-04 - mse: 5.5621e-04 - mae: 0.0057 - val_loss: 1.2113e-04 - val_mse: 1.2113e-04 - val_mae: 0.0048\n",
      "Epoch 26/50\n",
      "22/22 [==============================] - 1s 41ms/step - loss: 0.0011 - mse: 0.0011 - mae: 0.0071 - val_loss: 1.4986e-04 - val_mse: 1.4986e-04 - val_mae: 0.0062\n",
      "Epoch 27/50\n",
      "22/22 [==============================] - 1s 41ms/step - loss: 9.3959e-04 - mse: 9.3959e-04 - mae: 0.0076 - val_loss: 1.3215e-04 - val_mse: 1.3215e-04 - val_mae: 0.0053\n",
      "Epoch 28/50\n",
      "22/22 [==============================] - 1s 45ms/step - loss: 9.9613e-04 - mse: 9.9613e-04 - mae: 0.0067 - val_loss: 1.6326e-04 - val_mse: 1.6326e-04 - val_mae: 0.0057\n",
      "Epoch 29/50\n",
      "22/22 [==============================] - 1s 47ms/step - loss: 0.0011 - mse: 0.0011 - mae: 0.0067 - val_loss: 1.2140e-04 - val_mse: 1.2140e-04 - val_mae: 0.0048\n",
      "Epoch 30/50\n",
      "22/22 [==============================] - 1s 47ms/step - loss: 7.4556e-04 - mse: 7.4556e-04 - mae: 0.0062 - val_loss: 1.3116e-04 - val_mse: 1.3116e-04 - val_mae: 0.0064\n",
      "Epoch 31/50\n",
      "22/22 [==============================] - 1s 48ms/step - loss: 8.5510e-04 - mse: 8.5510e-04 - mae: 0.0064 - val_loss: 1.2953e-04 - val_mse: 1.2953e-04 - val_mae: 0.0057\n",
      "Epoch 32/50\n",
      "22/22 [==============================] - 1s 46ms/step - loss: 8.1498e-04 - mse: 8.1498e-04 - mae: 0.0097 - val_loss: 2.5710e-04 - val_mse: 2.5710e-04 - val_mae: 0.0136\n",
      "Epoch 33/50\n",
      "22/22 [==============================] - 1s 46ms/step - loss: 0.0012 - mse: 0.0012 - mae: 0.0108 - val_loss: 1.3958e-04 - val_mse: 1.3958e-04 - val_mae: 0.0067\n",
      "Epoch 34/50\n",
      "22/22 [==============================] - 1s 44ms/step - loss: 0.0010 - mse: 0.0010 - mae: 0.0080 - val_loss: 1.2504e-04 - val_mse: 1.2504e-04 - val_mae: 0.0048\n",
      "Epoch 35/50\n",
      "22/22 [==============================] - 1s 44ms/step - loss: 6.1680e-04 - mse: 6.1680e-04 - mae: 0.0059 - val_loss: 1.2801e-04 - val_mse: 1.2801e-04 - val_mae: 0.0055\n",
      "Epoch 36/50\n",
      "22/22 [==============================] - 1s 43ms/step - loss: 0.0011 - mse: 0.0011 - mae: 0.0067 - val_loss: 1.2638e-04 - val_mse: 1.2638e-04 - val_mae: 0.0045\n",
      "Epoch 37/50\n",
      "22/22 [==============================] - 1s 46ms/step - loss: 6.9697e-04 - mse: 6.9697e-04 - mae: 0.0058 - val_loss: 1.5836e-04 - val_mse: 1.5836e-04 - val_mae: 0.0086\n",
      "Epoch 38/50\n",
      "22/22 [==============================] - 1s 46ms/step - loss: 8.9000e-04 - mse: 8.9000e-04 - mae: 0.0104 - val_loss: 1.5157e-04 - val_mse: 1.5157e-04 - val_mae: 0.0056\n",
      "Epoch 39/50\n",
      "22/22 [==============================] - 1s 42ms/step - loss: 0.0013 - mse: 0.0013 - mae: 0.0081 - val_loss: 1.3968e-04 - val_mse: 1.3968e-04 - val_mae: 0.0072\n",
      "Epoch 40/50\n",
      "22/22 [==============================] - 1s 39ms/step - loss: 0.0011 - mse: 0.0011 - mae: 0.0070 - val_loss: 1.3710e-04 - val_mse: 1.3710e-04 - val_mae: 0.0069\n",
      "Epoch 41/50\n",
      "22/22 [==============================] - 1s 41ms/step - loss: 8.2985e-04 - mse: 8.2985e-04 - mae: 0.0065 - val_loss: 1.2431e-04 - val_mse: 1.2431e-04 - val_mae: 0.0048\n",
      "Epoch 42/50\n",
      "22/22 [==============================] - 1s 38ms/step - loss: 8.1001e-04 - mse: 8.1001e-04 - mae: 0.0060 - val_loss: 1.2538e-04 - val_mse: 1.2538e-04 - val_mae: 0.0056\n",
      "Epoch 43/50\n",
      "22/22 [==============================] - 1s 43ms/step - loss: 0.0011 - mse: 0.0011 - mae: 0.0068 - val_loss: 1.2524e-04 - val_mse: 1.2524e-04 - val_mae: 0.0048\n",
      "Epoch 44/50\n",
      "22/22 [==============================] - 1s 42ms/step - loss: 0.0011 - mse: 0.0011 - mae: 0.0066 - val_loss: 1.2683e-04 - val_mse: 1.2683e-04 - val_mae: 0.0059\n",
      "Epoch 45/50\n",
      "22/22 [==============================] - 1s 46ms/step - loss: 0.0011 - mse: 0.0011 - mae: 0.0066 - val_loss: 1.2270e-04 - val_mse: 1.2270e-04 - val_mae: 0.0050\n",
      "Epoch 46/50\n",
      "22/22 [==============================] - 1s 45ms/step - loss: 8.9769e-04 - mse: 8.9769e-04 - mae: 0.0060 - val_loss: 1.2350e-04 - val_mse: 1.2350e-04 - val_mae: 0.0054\n",
      "Epoch 47/50\n"
     ]
    },
    {
     "name": "stdout",
     "output_type": "stream",
     "text": [
      "22/22 [==============================] - 1s 44ms/step - loss: 0.0010 - mse: 0.0010 - mae: 0.0062 - val_loss: 1.2507e-04 - val_mse: 1.2507e-04 - val_mae: 0.0056\n",
      "Epoch 48/50\n",
      "22/22 [==============================] - 1s 43ms/step - loss: 0.0013 - mse: 0.0013 - mae: 0.0068 - val_loss: 1.2121e-04 - val_mse: 1.2121e-04 - val_mae: 0.0048\n",
      "Epoch 49/50\n",
      "22/22 [==============================] - 1s 40ms/step - loss: 0.0011 - mse: 0.0011 - mae: 0.0062 - val_loss: 1.2179e-04 - val_mse: 1.2179e-04 - val_mae: 0.0050\n",
      "Epoch 50/50\n",
      "22/22 [==============================] - 1s 39ms/step - loss: 8.4666e-04 - mse: 8.4666e-04 - mae: 0.0056 - val_loss: 1.2359e-04 - val_mse: 1.2359e-04 - val_mae: 0.0055\n"
     ]
    }
   ],
   "source": [
    "model.compile(loss='mse', optimizer='adam', metrics=['mse','mae'])\n",
    "history=model.fit(xtrain_scale, ytrain_scale, epochs=50, batch_size=350, verbose=1, validation_split=0.2)\n",
    "predictions = model.predict(xval_scale)"
   ]
  },
  {
   "cell_type": "code",
   "execution_count": 147,
   "metadata": {},
   "outputs": [
    {
     "name": "stdout",
     "output_type": "stream",
     "text": [
      "dict_keys(['loss', 'mse', 'mae', 'val_loss', 'val_mse', 'val_mae'])\n"
     ]
    },
    {
     "data": {
      "image/png": "[encoded data removed]",
      "text/plain": [
       "<Figure size 432x288 with 1 Axes>"
      ]
     },
     "metadata": {},
     "output_type": "display_data"
    }
   ],
   "source": [
    "print(history.history.keys())\n",
    "# \"Loss\"\n",
    "plt.plot(history.history['loss'])\n",
    "plt.plot(history.history['val_loss'])\n",
    "plt.title('model loss')\n",
    "plt.ylabel('loss')\n",
    "plt.xlabel('epoch')\n",
    "plt.legend(['train', 'validation'], loc='upper left')\n",
    "plt.show()"
   ]
  },
  {
   "cell_type": "code",
   "execution_count": 148,
   "metadata": {},
   "outputs": [],
   "source": [
    "predictions = scaler_y.inverse_transform(predictions)"
   ]
  },
  {
   "cell_type": "code",
   "execution_count": 149,
   "metadata": {},
   "outputs": [
    {
     "name": "stdout",
     "output_type": "stream",
     "text": [
      "Mean Absolute Error: 16.802601078593728\n",
      "Mean Squared Error Root: 55.7439718841892\n",
      "R^2: 0.01\n"
     ]
    }
   ],
   "source": [
    "mae = mean_absolute_error(y_val, predictions)\n",
    "print('Mean Absolute Error:', mae)\n",
    "mse_sqrt = math.sqrt(mean_squared_error(y_val, predictions))\n",
    "print('Mean Squared Error Root:', mse_sqrt)\n",
    "r2 = round(r2_score(y_val, predictions), 2)\n",
    "print('R^2:', r2)"
   ]
  },
  {
   "cell_type": "code",
   "execution_count": 122,
   "metadata": {},
   "outputs": [
    {
     "data": {
      "text/plain": [
       "11.764087804878049"
      ]
     },
     "execution_count": 122,
     "metadata": {},
     "output_type": "execute_result"
    }
   ],
   "source": [
    "np.mean(y_val)"
   ]
  },
  {
   "cell_type": "code",
   "execution_count": 123,
   "metadata": {},
   "outputs": [
    {
     "data": {
      "text/plain": [
       "34.20052"
      ]
     },
     "execution_count": 123,
     "metadata": {},
     "output_type": "execute_result"
    }
   ],
   "source": [
    "np.mean(predictions)"
   ]
  },
  {
   "cell_type": "code",
   "execution_count": null,
   "metadata": {},
   "outputs": [],
   "source": []
  },
  {
   "cell_type": "code",
   "execution_count": null,
   "metadata": {},
   "outputs": [],
   "source": []
  },
  {
   "cell_type": "code",
   "execution_count": null,
   "metadata": {},
   "outputs": [],
   "source": [
    "# RBFN"
   ]
  },
  {
   "cell_type": "code",
   "execution_count": 150,
   "metadata": {},
   "outputs": [],
   "source": [
    "class RBFLayer(Layer):\n",
    "    def __init__(self, units, gamma, **kwargs):\n",
    "        super(RBFLayer, self).__init__(**kwargs)\n",
    "        self.units = units\n",
    "        self.gamma = K.cast_to_floatx(gamma)\n",
    "\n",
    "    def build(self, input_shape):\n",
    "#         print(input_shape)\n",
    "#         print(self.units)\n",
    "        self.mu = self.add_weight(name='mu',\n",
    "                                  shape=(int(input_shape[1]), self.units),\n",
    "                                  initializer='uniform',\n",
    "                                  trainable=True)\n",
    "        super(RBFLayer, self).build(input_shape)\n",
    "\n",
    "    def call(self, inputs):\n",
    "        diff = K.expand_dims(inputs) - self.mu\n",
    "        l2 = K.sum(K.pow(diff, 2), axis=1)\n",
    "        res = K.exp(-1 * self.gamma * l2)\n",
    "        return res\n",
    "\n",
    "    def compute_output_shape(self, input_shape):\n",
    "        return (input_shape[0], self.units)"
   ]
  },
  {
   "cell_type": "code",
   "execution_count": 176,
   "metadata": {},
   "outputs": [
    {
     "name": "stdout",
     "output_type": "stream",
     "text": [
      "Model: \"sequential_17\"\n",
      "_________________________________________________________________\n",
      "Layer (type)                 Output Shape              Param #   \n",
      "=================================================================\n",
      "dense_43 (Dense)             (None, 9)                 90        \n",
      "_________________________________________________________________\n",
      "rbf_layer_4 (RBFLayer)       (None, 10000)             90000     \n",
      "_________________________________________________________________\n",
      "foo (Dense)                  (None, 1)                 10001     \n",
      "=================================================================\n",
      "Total params: 100,091\n",
      "Trainable params: 100,091\n",
      "Non-trainable params: 0\n",
      "_________________________________________________________________\n"
     ]
    }
   ],
   "source": [
    "model = Sequential()\n",
    "#model.add(Flatten(input_shape=(28, 28)))\n",
    "model.add(Dense(9, input_dim=9, kernel_initializer='normal', activation='relu'))\n",
    "model.add(RBFLayer(10000, 0.5))\n",
    "model.add(Dense(1, activation='sigmoid', name='foo'))\n",
    "model.summary()"
   ]
  },
  {
   "cell_type": "code",
   "execution_count": 177,
   "metadata": {},
   "outputs": [],
   "source": [
    "model.compile(optimizer='rmsprop', loss='mse', metrics=['mse','mae'])"
   ]
  },
  {
   "cell_type": "code",
   "execution_count": 179,
   "metadata": {},
   "outputs": [
    {
     "name": "stdout",
     "output_type": "stream",
     "text": [
      "Epoch 1/30\n",
      "29/29 [==============================] - 9s 329ms/step - loss: 0.0010 - mse: 0.0010 - mae: 0.0057 - val_loss: 1.9026e-04 - val_mse: 1.9026e-04 - val_mae: 0.0047\n",
      "Epoch 2/30\n",
      "29/29 [==============================] - 9s 318ms/step - loss: 0.0010 - mse: 0.0010 - mae: 0.0057 - val_loss: 1.9026e-04 - val_mse: 1.9026e-04 - val_mae: 0.0047\n",
      "Epoch 3/30\n",
      "29/29 [==============================] - 9s 312ms/step - loss: 0.0010 - mse: 0.0010 - mae: 0.0057 - val_loss: 1.9026e-04 - val_mse: 1.9026e-04 - val_mae: 0.0047\n",
      "Epoch 4/30\n",
      "29/29 [==============================] - 9s 313ms/step - loss: 0.0010 - mse: 0.0010 - mae: 0.0057 - val_loss: 1.9026e-04 - val_mse: 1.9026e-04 - val_mae: 0.0047\n",
      "Epoch 5/30\n",
      "29/29 [==============================] - 9s 317ms/step - loss: 0.0010 - mse: 0.0010 - mae: 0.0057 - val_loss: 1.9026e-04 - val_mse: 1.9026e-04 - val_mae: 0.0047\n",
      "Epoch 6/30\n",
      "29/29 [==============================] - 9s 310ms/step - loss: 0.0010 - mse: 0.0010 - mae: 0.0057 - val_loss: 1.9026e-04 - val_mse: 1.9026e-04 - val_mae: 0.0047\n",
      "Epoch 7/30\n",
      "29/29 [==============================] - 9s 321ms/step - loss: 0.0010 - mse: 0.0010 - mae: 0.0057 - val_loss: 1.9026e-04 - val_mse: 1.9026e-04 - val_mae: 0.0047\n",
      "Epoch 8/30\n",
      "29/29 [==============================] - 9s 318ms/step - loss: 0.0010 - mse: 0.0010 - mae: 0.0057 - val_loss: 1.9026e-04 - val_mse: 1.9026e-04 - val_mae: 0.0047\n",
      "Epoch 9/30\n",
      "29/29 [==============================] - 9s 311ms/step - loss: 0.0010 - mse: 0.0010 - mae: 0.0057 - val_loss: 1.9026e-04 - val_mse: 1.9026e-04 - val_mae: 0.0047\n",
      "Epoch 10/30\n",
      "29/29 [==============================] - 9s 314ms/step - loss: 0.0010 - mse: 0.0010 - mae: 0.0057 - val_loss: 1.9026e-04 - val_mse: 1.9026e-04 - val_mae: 0.0047\n",
      "Epoch 11/30\n",
      "29/29 [==============================] - 9s 314ms/step - loss: 0.0010 - mse: 0.0010 - mae: 0.0057 - val_loss: 1.9026e-04 - val_mse: 1.9026e-04 - val_mae: 0.0047\n",
      "Epoch 12/30\n",
      "29/29 [==============================] - 9s 321ms/step - loss: 0.0010 - mse: 0.0010 - mae: 0.0057 - val_loss: 1.9026e-04 - val_mse: 1.9026e-04 - val_mae: 0.0047\n",
      "Epoch 13/30\n",
      "29/29 [==============================] - 9s 312ms/step - loss: 0.0010 - mse: 0.0010 - mae: 0.0057 - val_loss: 1.9026e-04 - val_mse: 1.9026e-04 - val_mae: 0.0047\n",
      "Epoch 14/30\n",
      "29/29 [==============================] - 9s 320ms/step - loss: 0.0010 - mse: 0.0010 - mae: 0.0057 - val_loss: 1.9026e-04 - val_mse: 1.9026e-04 - val_mae: 0.0047\n",
      "Epoch 15/30\n",
      "29/29 [==============================] - 9s 318ms/step - loss: 0.0010 - mse: 0.0010 - mae: 0.0057 - val_loss: 1.9026e-04 - val_mse: 1.9026e-04 - val_mae: 0.0047\n",
      "Epoch 16/30\n",
      "29/29 [==============================] - 9s 318ms/step - loss: 0.0010 - mse: 0.0010 - mae: 0.0057 - val_loss: 1.9026e-04 - val_mse: 1.9026e-04 - val_mae: 0.0047\n",
      "Epoch 17/30\n",
      "29/29 [==============================] - 9s 325ms/step - loss: 0.0010 - mse: 0.0010 - mae: 0.0057 - val_loss: 1.9026e-04 - val_mse: 1.9026e-04 - val_mae: 0.0047\n",
      "Epoch 18/30\n",
      "29/29 [==============================] - 9s 322ms/step - loss: 0.0010 - mse: 0.0010 - mae: 0.0057 - val_loss: 1.9026e-04 - val_mse: 1.9026e-04 - val_mae: 0.0047\n",
      "Epoch 19/30\n",
      "29/29 [==============================] - 9s 326ms/step - loss: 0.0010 - mse: 0.0010 - mae: 0.0057 - val_loss: 1.9026e-04 - val_mse: 1.9026e-04 - val_mae: 0.0047\n",
      "Epoch 20/30\n",
      "29/29 [==============================] - 9s 315ms/step - loss: 0.0010 - mse: 0.0010 - mae: 0.0057 - val_loss: 1.9026e-04 - val_mse: 1.9026e-04 - val_mae: 0.0047\n",
      "Epoch 21/30\n",
      "29/29 [==============================] - 10s 332ms/step - loss: 0.0010 - mse: 0.0010 - mae: 0.0057 - val_loss: 1.9026e-04 - val_mse: 1.9026e-04 - val_mae: 0.0047\n",
      "Epoch 22/30\n",
      "29/29 [==============================] - 10s 329ms/step - loss: 0.0010 - mse: 0.0010 - mae: 0.0057 - val_loss: 1.9026e-04 - val_mse: 1.9026e-04 - val_mae: 0.0047\n",
      "Epoch 23/30\n",
      "29/29 [==============================] - 9s 315ms/step - loss: 0.0010 - mse: 0.0010 - mae: 0.0057 - val_loss: 1.9026e-04 - val_mse: 1.9026e-04 - val_mae: 0.0047\n",
      "Epoch 24/30\n",
      "29/29 [==============================] - 10s 334ms/step - loss: 0.0010 - mse: 0.0010 - mae: 0.0057 - val_loss: 1.9026e-04 - val_mse: 1.9026e-04 - val_mae: 0.0047\n",
      "Epoch 25/30\n",
      "29/29 [==============================] - 9s 324ms/step - loss: 0.0010 - mse: 0.0010 - mae: 0.0057 - val_loss: 1.9026e-04 - val_mse: 1.9026e-04 - val_mae: 0.0047\n",
      "Epoch 26/30\n",
      "29/29 [==============================] - 9s 321ms/step - loss: 0.0010 - mse: 0.0010 - mae: 0.0057 - val_loss: 1.9026e-04 - val_mse: 1.9026e-04 - val_mae: 0.0047\n",
      "Epoch 27/30\n",
      "29/29 [==============================] - 9s 320ms/step - loss: 0.0010 - mse: 0.0010 - mae: 0.0057 - val_loss: 1.9026e-04 - val_mse: 1.9026e-04 - val_mae: 0.0047\n",
      "Epoch 28/30\n",
      "29/29 [==============================] - 9s 314ms/step - loss: 0.0010 - mse: 0.0010 - mae: 0.0057 - val_loss: 1.9026e-04 - val_mse: 1.9026e-04 - val_mae: 0.0047\n",
      "Epoch 29/30\n",
      "29/29 [==============================] - 9s 326ms/step - loss: 0.0010 - mse: 0.0010 - mae: 0.0057 - val_loss: 1.9026e-04 - val_mse: 1.9026e-04 - val_mae: 0.0047\n",
      "Epoch 30/30\n",
      "29/29 [==============================] - 9s 307ms/step - loss: 0.0010 - mse: 0.0010 - mae: 0.0057 - val_loss: 1.9026e-04 - val_mse: 1.9026e-04 - val_mae: 0.0047\n"
     ]
    }
   ],
   "source": [
    "history=model.fit(xtrain_scale, ytrain_scale, epochs=30, batch_size=256, verbose=1, validation_split=0.2)"
   ]
  },
  {
   "cell_type": "code",
   "execution_count": 180,
   "metadata": {},
   "outputs": [],
   "source": [
    "predictions = model.predict(xval_scale)"
   ]
  },
  {
   "cell_type": "code",
   "execution_count": 181,
   "metadata": {},
   "outputs": [],
   "source": [
    "predictions = scaler_y.inverse_transform(predictions)"
   ]
  },
  {
   "cell_type": "code",
   "execution_count": 182,
   "metadata": {},
   "outputs": [
    {
     "name": "stdout",
     "output_type": "stream",
     "text": [
      "Mean Absolute Error: 11.754087804170705\n",
      "Mean Squared Error Root: 57.277960592267746\n",
      "R^2: -0.04\n",
      "-0.04\n"
     ]
    }
   ],
   "source": [
    "mae = mean_absolute_error(y_val, predictions)\n",
    "print('Mean Absolute Error:', mae)\n",
    "mse_sqrt = math.sqrt(mean_squared_error(y_val, predictions))\n",
    "print('Mean Squared Error Root:', mse_sqrt)\n",
    "r2 = round(r2_score(y_val, predictions), 2)\n",
    "print('R^2:', r2)\n",
    "print(r2)"
   ]
  },
  {
   "cell_type": "code",
   "execution_count": 174,
   "metadata": {},
   "outputs": [
    {
     "data": {
      "text/plain": [
       "11.764087804878049"
      ]
     },
     "execution_count": 174,
     "metadata": {},
     "output_type": "execute_result"
    }
   ],
   "source": [
    "np.mean(y_val)"
   ]
  },
  {
   "cell_type": "code",
   "execution_count": 175,
   "metadata": {},
   "outputs": [
    {
     "data": {
      "text/plain": [
       "22.657866"
      ]
     },
     "execution_count": 175,
     "metadata": {},
     "output_type": "execute_result"
    }
   ],
   "source": [
    "np.mean(predictions)"
   ]
  },
  {
   "cell_type": "code",
   "execution_count": null,
   "metadata": {},
   "outputs": [],
   "source": []
  }
 ],
 "metadata": {
  "kernelspec": {
   "display_name": "Python 3",
   "language": "python",
   "name": "python3"
  },
  "language_info": {
   "codemirror_mode": {
    "name": "ipython",
    "version": 3
   },
   "file_extension": ".py",
   "mimetype": "text/x-python",
   "name": "python",
   "nbconvert_exporter": "python",
   "pygments_lexer": "ipython3",
   "version": "3.8.5"
  }
 },
 "nbformat": 4,
 "nbformat_minor": 4
}
